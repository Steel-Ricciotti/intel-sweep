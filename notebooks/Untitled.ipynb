{
 "cells": [
  {
   "cell_type": "code",
   "execution_count": 17,
   "id": "26bcc077",
   "metadata": {},
   "outputs": [],
   "source": [
    "indicator = \"M2SL\",\"KandicePussy\"\n",
    "# features = [ f\"{equity}_Close_ma3\", f\"{equity}_Close_ma12\", f\"{equity}_Volume_lag1\", f\"{equity}_Close_volatility\"]\n",
    "for i in indicator:\n",
    "    features.append(i)\n",
    "    features.append(f\"{i}_lag1\")\n",
    "    features.append(f\"{i}_lag3\")\n",
    "    features.append(f\"{i}_lag6\")\n",
    "    \n",
    "    \n",
    "# features = [indicator, f\"{indicator}_lag1\", f\"{indicator}_lag3\", f\"{indicator}_lag6\",\n",
    "#             f\"{equity}_Close_ma3\", f\"{equity}_Close_ma12\", f\"{equity}_Volume_lag1\", f\"{equity}_Close_volatility\"]"
   ]
  },
  {
   "cell_type": "code",
   "execution_count": 18,
   "id": "3ce68894",
   "metadata": {},
   "outputs": [
    {
     "name": "stdout",
     "output_type": "stream",
     "text": [
      "['M2SL', 'M2SL_lag1', 'M2SL_lag3', 'M2SL_lag6', 'KandicePussy', 'KandicePussy_lag1', 'KandicePussy_lag3', 'KandicePussy_lag6']\n"
     ]
    }
   ],
   "source": [
    "print(features)"
   ]
  },
  {
   "cell_type": "code",
   "execution_count": 16,
   "id": "21dc5e0f",
   "metadata": {},
   "outputs": [],
   "source": [
    "features = []"
   ]
  },
  {
   "cell_type": "code",
   "execution_count": null,
   "id": "91a7e037",
   "metadata": {},
   "outputs": [],
   "source": []
  }
 ],
 "metadata": {
  "kernelspec": {
   "display_name": "Python 3 (ipykernel)",
   "language": "python",
   "name": "python3"
  },
  "language_info": {
   "codemirror_mode": {
    "name": "ipython",
    "version": 3
   },
   "file_extension": ".py",
   "mimetype": "text/x-python",
   "name": "python",
   "nbconvert_exporter": "python",
   "pygments_lexer": "ipython3",
   "version": "3.11.5"
  }
 },
 "nbformat": 4,
 "nbformat_minor": 5
}
