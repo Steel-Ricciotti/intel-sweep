{
 "cells": [
  {
   "cell_type": "code",
   "execution_count": null,
   "id": "a027827b",
   "metadata": {},
   "outputs": [],
   "source": [
    "# ISM New Orders vs Industrials/Logistics\n",
    "leading_indicators = 'UMDMNO'\n",
    "# Manufacturers' New Orders: Durable Goods \n",
    "equities = ['CAT','EMR','FDX','UPS']"
   ]
  }
 ],
 "metadata": {
  "language_info": {
   "name": "python"
  }
 },
 "nbformat": 4,
 "nbformat_minor": 5
}
