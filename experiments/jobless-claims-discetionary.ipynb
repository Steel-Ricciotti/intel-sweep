{
 "cells": [
  {
   "cell_type": "code",
   "execution_count": null,
   "id": "6a9edb31",
   "metadata": {},
   "outputs": [],
   "source": [
    "# Jobless Claims vs Staffing/Discretionary\n",
    "leading_indicators = 'ICSA'\n",
    "equities = ['RHI', 'MAN', 'TGT', 'AMZN']"
   ]
  }
 ],
 "metadata": {
  "language_info": {
   "name": "python"
  }
 },
 "nbformat": 4,
 "nbformat_minor": 5
}
