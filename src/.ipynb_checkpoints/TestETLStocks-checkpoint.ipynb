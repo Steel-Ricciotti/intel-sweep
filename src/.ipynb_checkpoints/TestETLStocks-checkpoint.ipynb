{
 "cells": [
  {
   "cell_type": "code",
   "execution_count": 1,
   "id": "dd21bd4c",
   "metadata": {},
   "outputs": [
    {
     "name": "stderr",
     "output_type": "stream",
     "text": [
      "2025-05-29 13:24:50,932 - INFO - Fetching data for MSFT\n"
     ]
    },
    {
     "name": "stdout",
     "output_type": "stream",
     "text": [
      "Found 503 symbols:\n",
      "['NVDA', 'MSFT', 'AAPL', 'AMZN', 'GOOG']\n"
     ]
    },
    {
     "ename": "ValueError",
     "evalue": "We have detected your API key as 9HKRTHJGP77FGDQO and our standard API rate limit is 25 requests per day. Please subscribe to any of the premium plans at https://www.alphavantage.co/premium/ to instantly remove all daily rate limits.",
     "output_type": "error",
     "traceback": [
      "\u001b[1;31m---------------------------------------------------------------------------\u001b[0m",
      "\u001b[1;31mValueError\u001b[0m                                Traceback (most recent call last)",
      "Cell \u001b[1;32mIn[1], line 27\u001b[0m\n\u001b[0;32m     25\u001b[0m ticker\u001b[38;5;241m=\u001b[39m\u001b[38;5;124m\"\u001b[39m\u001b[38;5;124mMSFT\u001b[39m\u001b[38;5;124m\"\u001b[39m\n\u001b[0;32m     26\u001b[0m logger\u001b[38;5;241m.\u001b[39minfo(\u001b[38;5;124mf\u001b[39m\u001b[38;5;124m\"\u001b[39m\u001b[38;5;124mFetching data for \u001b[39m\u001b[38;5;132;01m{\u001b[39;00mticker\u001b[38;5;132;01m}\u001b[39;00m\u001b[38;5;124m\"\u001b[39m)\n\u001b[1;32m---> 27\u001b[0m data, _ \u001b[38;5;241m=\u001b[39m ts\u001b[38;5;241m.\u001b[39mget_monthly_adjusted(symbol\u001b[38;5;241m=\u001b[39mticker)\n\u001b[0;32m     29\u001b[0m \u001b[38;5;28;01mif\u001b[39;00m data\u001b[38;5;241m.\u001b[39mempty:\n\u001b[0;32m     30\u001b[0m     \u001b[38;5;28;01mraise\u001b[39;00m \u001b[38;5;167;01mValueError\u001b[39;00m(\u001b[38;5;124mf\u001b[39m\u001b[38;5;124m\"\u001b[39m\u001b[38;5;124mNo data returned for \u001b[39m\u001b[38;5;132;01m{\u001b[39;00mticker\u001b[38;5;132;01m}\u001b[39;00m\u001b[38;5;124m\"\u001b[39m)\n",
      "File \u001b[1;32mC:\\Python\\Lib\\site-packages\\alpha_vantage\\alphavantage.py:218\u001b[0m, in \u001b[0;36mAlphaVantage._output_format.<locals>._format_wrapper\u001b[1;34m(self, *args, **kwargs)\u001b[0m\n\u001b[0;32m    216\u001b[0m \u001b[38;5;129m@wraps\u001b[39m(func)\n\u001b[0;32m    217\u001b[0m \u001b[38;5;28;01mdef\u001b[39;00m \u001b[38;5;21m_format_wrapper\u001b[39m(\u001b[38;5;28mself\u001b[39m, \u001b[38;5;241m*\u001b[39margs, \u001b[38;5;241m*\u001b[39m\u001b[38;5;241m*\u001b[39mkwargs):\n\u001b[1;32m--> 218\u001b[0m     call_response, data_key, meta_data_key \u001b[38;5;241m=\u001b[39m func(\n\u001b[0;32m    219\u001b[0m         \u001b[38;5;28mself\u001b[39m, \u001b[38;5;241m*\u001b[39margs, \u001b[38;5;241m*\u001b[39m\u001b[38;5;241m*\u001b[39mkwargs)\n\u001b[0;32m    220\u001b[0m     \u001b[38;5;28;01mif\u001b[39;00m \u001b[38;5;124m'\u001b[39m\u001b[38;5;124mjson\u001b[39m\u001b[38;5;124m'\u001b[39m \u001b[38;5;129;01min\u001b[39;00m \u001b[38;5;28mself\u001b[39m\u001b[38;5;241m.\u001b[39moutput_format\u001b[38;5;241m.\u001b[39mlower() \u001b[38;5;129;01mor\u001b[39;00m \u001b[38;5;124m'\u001b[39m\u001b[38;5;124mpandas\u001b[39m\u001b[38;5;124m'\u001b[39m \\\n\u001b[0;32m    221\u001b[0m             \u001b[38;5;129;01min\u001b[39;00m \u001b[38;5;28mself\u001b[39m\u001b[38;5;241m.\u001b[39moutput_format\u001b[38;5;241m.\u001b[39mlower():\n\u001b[0;32m    222\u001b[0m         \u001b[38;5;28;01mif\u001b[39;00m data_key \u001b[38;5;129;01mis\u001b[39;00m \u001b[38;5;129;01mnot\u001b[39;00m \u001b[38;5;28;01mNone\u001b[39;00m:\n",
      "File \u001b[1;32mC:\\Python\\Lib\\site-packages\\alpha_vantage\\alphavantage.py:160\u001b[0m, in \u001b[0;36mAlphaVantage._call_api_on_func.<locals>._call_wrapper\u001b[1;34m(self, *args, **kwargs)\u001b[0m\n\u001b[0;32m    158\u001b[0m \u001b[38;5;28;01melse\u001b[39;00m:\n\u001b[0;32m    159\u001b[0m     url \u001b[38;5;241m=\u001b[39m \u001b[38;5;124m'\u001b[39m\u001b[38;5;132;01m{}\u001b[39;00m\u001b[38;5;132;01m{}\u001b[39;00m\u001b[38;5;124m'\u001b[39m\u001b[38;5;241m.\u001b[39mformat(url, apikey_parameter)\n\u001b[1;32m--> 160\u001b[0m \u001b[38;5;28;01mreturn\u001b[39;00m \u001b[38;5;28mself\u001b[39m\u001b[38;5;241m.\u001b[39m_handle_api_call(url), data_key, meta_data_key\n",
      "File \u001b[1;32mC:\\Python\\Lib\\site-packages\\alpha_vantage\\alphavantage.py:361\u001b[0m, in \u001b[0;36mAlphaVantage._handle_api_call\u001b[1;34m(self, url)\u001b[0m\n\u001b[0;32m    359\u001b[0m     \u001b[38;5;28;01mraise\u001b[39;00m \u001b[38;5;167;01mValueError\u001b[39;00m(json_response[\u001b[38;5;124m\"\u001b[39m\u001b[38;5;124mError Message\u001b[39m\u001b[38;5;124m\"\u001b[39m])\n\u001b[0;32m    360\u001b[0m \u001b[38;5;28;01melif\u001b[39;00m \u001b[38;5;124m\"\u001b[39m\u001b[38;5;124mInformation\u001b[39m\u001b[38;5;124m\"\u001b[39m \u001b[38;5;129;01min\u001b[39;00m json_response \u001b[38;5;129;01mand\u001b[39;00m \u001b[38;5;28mself\u001b[39m\u001b[38;5;241m.\u001b[39mtreat_info_as_error:\n\u001b[1;32m--> 361\u001b[0m     \u001b[38;5;28;01mraise\u001b[39;00m \u001b[38;5;167;01mValueError\u001b[39;00m(json_response[\u001b[38;5;124m\"\u001b[39m\u001b[38;5;124mInformation\u001b[39m\u001b[38;5;124m\"\u001b[39m])\n\u001b[0;32m    362\u001b[0m \u001b[38;5;28;01melif\u001b[39;00m \u001b[38;5;124m\"\u001b[39m\u001b[38;5;124mNote\u001b[39m\u001b[38;5;124m\"\u001b[39m \u001b[38;5;129;01min\u001b[39;00m json_response \u001b[38;5;129;01mand\u001b[39;00m \u001b[38;5;28mself\u001b[39m\u001b[38;5;241m.\u001b[39mtreat_info_as_error:\n\u001b[0;32m    363\u001b[0m     \u001b[38;5;28;01mraise\u001b[39;00m \u001b[38;5;167;01mValueError\u001b[39;00m(json_response[\u001b[38;5;124m\"\u001b[39m\u001b[38;5;124mNote\u001b[39m\u001b[38;5;124m\"\u001b[39m])\n",
      "\u001b[1;31mValueError\u001b[0m: We have detected your API key as 9HKRTHJGP77FGDQO and our standard API rate limit is 25 requests per day. Please subscribe to any of the premium plans at https://www.alphavantage.co/premium/ to instantly remove all daily rate limits."
     ]
    }
   ],
   "source": [
    "# 📦 Import required libraries\n",
    "import time\n",
    "import logging\n",
    "from pathlib import Path\n",
    "import pandas as pd\n",
    "from alpha_vantage.timeseries import TimeSeries\n",
    "from tenacity import retry, stop_after_attempt, wait_exponential\n",
    "\n",
    "# 🔧 Setup logging\n",
    "logging.basicConfig(level=logging.INFO, format='%(asctime)s - %(levelname)s - %(message)s')\n",
    "logger = logging.getLogger()\n",
    "API_KEY = \"9HKRTHJGP77FGDQO\"  # Replace with your own key if needed\n",
    "OUTPUT_DIR = Path(\"av_monthly\")\n",
    "OUTPUT_DIR.mkdir(parents=True, exist_ok=True)\n",
    "\n",
    "csv_path = \"C:/Users/Steel/Desktop/Projects/intel-sweep/intel-sweep/src/data/heavy-stocks.csv\"\n",
    "df_symbols = pd.read_csv(csv_path)\n",
    "symbols = df_symbols['Symbol'].dropna().unique().tolist()\n",
    "\n",
    "print(f\"Found {len(symbols)} symbols:\")\n",
    "print(symbols[:5])  # Show a preview\n",
    "\n",
    "ts = TimeSeries(key=API_KEY, output_format='pandas')\n",
    "\n",
    "ticker=\"MSFT\"\n",
    "logger.info(f\"Fetching data for {ticker}\")\n",
    "data, _ = ts.get_monthly_adjusted(symbol=ticker)\n",
    "\n",
    "if data.empty:\n",
    "    raise ValueError(f\"No data returned for {ticker}\")\n",
    "\n",
    "data.reset_index(inplace=True)\n",
    "data.rename(columns={\n",
    "    'date': 'Date',\n",
    "    '1. open': 'Open',\n",
    "    '2. high': 'High',\n",
    "    '3. low': 'Low',\n",
    "    '4. close': 'Close',\n",
    "    '5. adjusted close': 'Adj Close',\n",
    "    '6. volume': 'Volume'\n",
    "}, inplace=True)\n",
    "\n",
    "data = data[['Date', 'Open', 'High', 'Low', 'Close', 'Adj Close', 'Volume']]\n",
    "data['Date'] = pd.to_datetime(data['Date']).dt.strftime('%Y-%m-%d')\n",
    "data = data.sort_values('Date')\n",
    "data = data.round(4)\n"
   ]
  },
  {
   "cell_type": "code",
   "execution_count": 13,
   "id": "47220f70",
   "metadata": {},
   "outputs": [
    {
     "name": "stdout",
     "output_type": "stream",
     "text": [
      "Collecting polygon-api-client\n",
      "  Obtaining dependency information for polygon-api-client from https://files.pythonhosted.org/packages/fb/16/ee8a361c40432408684113e90fba6fe6a862ffd8a7c518be1167479e8cad/polygon_api_client-1.14.5-py3-none-any.whl.metadata\n",
      "  Downloading polygon_api_client-1.14.5-py3-none-any.whl.metadata (952 bytes)\n",
      "Requirement already satisfied: certifi<2026.0.0,>=2022.5.18 in c:\\python\\lib\\site-packages (from polygon-api-client) (2023.7.22)\n",
      "Requirement already satisfied: urllib3<3.0.0,>=1.26.9 in c:\\python\\lib\\site-packages (from polygon-api-client) (1.26.16)\n",
      "Requirement already satisfied: websockets<15.0,>=10.3 in c:\\python\\lib\\site-packages (from polygon-api-client) (10.4)\n",
      "Downloading polygon_api_client-1.14.5-py3-none-any.whl (44 kB)\n",
      "   ---------------------------------------- 0.0/44.1 kB ? eta -:--:--\n",
      "   --------- ------------------------------ 10.2/44.1 kB ? eta -:--:--\n",
      "   ---------------------------------------- 44.1/44.1 kB 537.7 kB/s eta 0:00:00\n",
      "Installing collected packages: polygon-api-client\n",
      "Successfully installed polygon-api-client-1.14.5\n"
     ]
    }
   ],
   "source": [
    "!pip install -U polygon-api-client"
   ]
  },
  {
   "cell_type": "code",
   "execution_count": 14,
   "id": "83ec6679",
   "metadata": {},
   "outputs": [
    {
     "ename": "ImportError",
     "evalue": "cannot import name 'RESTClient' from 'polygon' (C:\\Python\\Lib\\site-packages\\polygon\\__init__.py)",
     "output_type": "error",
     "traceback": [
      "\u001b[1;31m---------------------------------------------------------------------------\u001b[0m",
      "\u001b[1;31mImportError\u001b[0m                               Traceback (most recent call last)",
      "Cell \u001b[1;32mIn[14], line 1\u001b[0m\n\u001b[1;32m----> 1\u001b[0m \u001b[38;5;28;01mfrom\u001b[39;00m \u001b[38;5;21;01mpolygon\u001b[39;00m \u001b[38;5;28;01mimport\u001b[39;00m RESTClient\n",
      "\u001b[1;31mImportError\u001b[0m: cannot import name 'RESTClient' from 'polygon' (C:\\Python\\Lib\\site-packages\\polygon\\__init__.py)"
     ]
    }
   ],
   "source": [
    "from polygon import RESTClient"
   ]
  },
  {
   "cell_type": "code",
   "execution_count": 5,
   "id": "728181a4",
   "metadata": {},
   "outputs": [
    {
     "ename": "ImportError",
     "evalue": "cannot import name 'RESTClient' from 'polygon' (C:\\Python\\Lib\\site-packages\\polygon\\__init__.py)",
     "output_type": "error",
     "traceback": [
      "\u001b[1;31m---------------------------------------------------------------------------\u001b[0m",
      "\u001b[1;31mImportError\u001b[0m                               Traceback (most recent call last)",
      "Cell \u001b[1;32mIn[5], line 2\u001b[0m\n\u001b[0;32m      1\u001b[0m \u001b[38;5;66;03m# Polygon.io setup\u001b[39;00m\n\u001b[1;32m----> 2\u001b[0m \u001b[38;5;28;01mfrom\u001b[39;00m \u001b[38;5;21;01mpolygon\u001b[39;00m \u001b[38;5;28;01mimport\u001b[39;00m RESTClient\n\u001b[0;32m      3\u001b[0m \u001b[38;5;28;01mimport\u001b[39;00m \u001b[38;5;21;01mpandas\u001b[39;00m \u001b[38;5;28;01mas\u001b[39;00m \u001b[38;5;21;01mpd\u001b[39;00m\n\u001b[0;32m      4\u001b[0m \u001b[38;5;28;01mimport\u001b[39;00m \u001b[38;5;21;01mtime\u001b[39;00m\n",
      "\u001b[1;31mImportError\u001b[0m: cannot import name 'RESTClient' from 'polygon' (C:\\Python\\Lib\\site-packages\\polygon\\__init__.py)"
     ]
    }
   ],
   "source": [
    "# Polygon.io setup\n",
    "from polygon import RESTClient\n",
    "import pandas as pd\n",
    "import time\n",
    "import os\n",
    "from pathlib import Path\n",
    "import logging\n",
    "\n",
    "# Setup logging\n",
    "logging.basicConfig(level=logging.INFO, format='%(asctime)s - %(levelname)s - %(message)s')\n",
    "\n",
    "# Replace with your Polygon API Key\n",
    "POLYGON_API_KEY = \"V14jfLkPqCx651gIIRS0ipNy5m8BH0xS\"\n",
    "client = RESTClient(POLYGON_API_KEY)\n",
    "\n",
    "# Tickers to fetch\n",
    "tickers = ['AAPL', 'MSFT', 'GOOG']\n",
    "\n",
    "# Output directory\n",
    "output_dir = Path(\"polygon_monthly\")\n",
    "output_dir.mkdir(parents=True, exist_ok=True)\n",
    "\n",
    "# Fetch and save monthly data\n",
    "for ticker in tickers:\n",
    "    logging.info(f\"Fetching monthly data for {ticker}\")\n",
    "    try:\n",
    "        bars = client.get_aggs(\n",
    "            ticker=ticker,\n",
    "            multiplier=1,\n",
    "            timespan=\"month\",\n",
    "            from_=\"2000-01-01\",\n",
    "            to=\"2025-05-29\",\n",
    "            limit=5000\n",
    "        )\n",
    "        df = pd.DataFrame([bar.__dict__ for bar in bars])\n",
    "        df['t'] = pd.to_datetime(df['t'], unit='ms')\n",
    "        df.rename(columns={\n",
    "            't': 'Date',\n",
    "            'o': 'Open',\n",
    "            'h': 'High',\n",
    "            'l': 'Low',\n",
    "            'c': 'Close',\n",
    "            'v': 'Volume'\n",
    "        }, inplace=True)\n",
    "        df = df[['Date', 'Open', 'High', 'Low', 'Close', 'Volume']]\n",
    "        df = df.round(4)\n",
    "        df.sort_values('Date', inplace=True)\n",
    "        df.to_csv(output_dir / f\"{ticker}_monthly.csv\", index=False)\n",
    "        logging.info(f\"Saved {ticker} to {output_dir}/{ticker}_monthly.csv\")\n",
    "        time.sleep(1)\n",
    "    except Exception as e:\n",
    "        logging.error(f\"Failed to fetch {ticker}: {e}\")"
   ]
  },
  {
   "cell_type": "code",
   "execution_count": null,
   "id": "b1f11233",
   "metadata": {},
   "outputs": [],
   "source": [
    "V14jfLkPqCx651gIIRS0ipNy5m8BH0xS\n",
    "\n",
    "d0s9i2hr01qkkpltrpe0d0s9i2hr01qkkpltrpeg\n"
   ]
  },
  {
   "cell_type": "code",
   "execution_count": 7,
   "id": "20cca644",
   "metadata": {},
   "outputs": [
    {
     "name": "stdout",
     "output_type": "stream",
     "text": [
      "Collecting finnhub-python\n",
      "  Obtaining dependency information for finnhub-python from https://files.pythonhosted.org/packages/17/09/9240b2a222717e7bda81f954047b662f2744aaeb6b29d62e89bb5c49dd16/finnhub_python-2.4.23-py3-none-any.whl.metadata\n",
      "  Downloading finnhub_python-2.4.23-py3-none-any.whl.metadata (9.2 kB)\n",
      "Requirement already satisfied: requests>=2.22.0 in c:\\python\\lib\\site-packages (from finnhub-python) (2.31.0)\n",
      "Requirement already satisfied: charset-normalizer<4,>=2 in c:\\python\\lib\\site-packages (from requests>=2.22.0->finnhub-python) (2.0.4)\n",
      "Requirement already satisfied: idna<4,>=2.5 in c:\\python\\lib\\site-packages (from requests>=2.22.0->finnhub-python) (3.4)\n",
      "Requirement already satisfied: urllib3<3,>=1.21.1 in c:\\python\\lib\\site-packages (from requests>=2.22.0->finnhub-python) (1.26.16)\n",
      "Requirement already satisfied: certifi>=2017.4.17 in c:\\python\\lib\\site-packages (from requests>=2.22.0->finnhub-python) (2023.7.22)\n",
      "Downloading finnhub_python-2.4.23-py3-none-any.whl (11 kB)\n",
      "Installing collected packages: finnhub-python\n",
      "Successfully installed finnhub-python-2.4.23\n"
     ]
    }
   ],
   "source": [
    "!pip install finnhub-python\n"
   ]
  },
  {
   "cell_type": "code",
   "execution_count": 17,
   "id": "e76ec10f",
   "metadata": {},
   "outputs": [],
   "source": [
    "# Finnhub.io setup\n",
    "import finnhub\n",
    "import pandas as pd\n",
    "import time\n",
    "import os\n",
    "from pathlib import Path\n",
    "import logging\n",
    "from datetime import datetime\n",
    "import calendar\n",
    "\n",
    "# Setup logging\n",
    "logging.basicConfig(level=logging.INFO, format='%(asctime)s - %(levelname)s - %(message)s')\n",
    "\n",
    "# Replace with your Finnhub API Key\n",
    "FINNHUB_API_KEY = \"d0s9ll9r01qkkpltsgigd0s9ll9r01qkkpltsgj0\"\n",
    "finnhub_client = finnhub.Client(api_key=FINNHUB_API_KEY)\n"
   ]
  },
  {
   "cell_type": "code",
   "execution_count": 18,
   "id": "0bd838ad",
   "metadata": {},
   "outputs": [
    {
     "data": {
      "text/plain": [
       "<finnhub.client.Client at 0x1ea7aee2850>"
      ]
     },
     "execution_count": 18,
     "metadata": {},
     "output_type": "execute_result"
    }
   ],
   "source": [
    "finnhub_client"
   ]
  },
  {
   "cell_type": "code",
   "execution_count": 19,
   "id": "7e3587c7",
   "metadata": {},
   "outputs": [
    {
     "ename": "FinnhubAPIException",
     "evalue": "FinnhubAPIException(status_code: 403): You don't have access to this resource.",
     "output_type": "error",
     "traceback": [
      "\u001b[1;31m---------------------------------------------------------------------------\u001b[0m",
      "\u001b[1;31mFinnhubAPIException\u001b[0m                       Traceback (most recent call last)",
      "Cell \u001b[1;32mIn[19], line 1\u001b[0m\n\u001b[1;32m----> 1\u001b[0m res \u001b[38;5;241m=\u001b[39m finnhub_client\u001b[38;5;241m.\u001b[39mstock_candles(\u001b[38;5;124m'\u001b[39m\u001b[38;5;124mAAPL\u001b[39m\u001b[38;5;124m'\u001b[39m, \u001b[38;5;124m'\u001b[39m\u001b[38;5;124mD\u001b[39m\u001b[38;5;124m'\u001b[39m, \u001b[38;5;241m1590988249\u001b[39m, \u001b[38;5;241m1591852249\u001b[39m)\n\u001b[0;32m      2\u001b[0m \u001b[38;5;28mprint\u001b[39m(res)\n",
      "File \u001b[1;32mC:\\Python\\Lib\\site-packages\\finnhub\\client.py:226\u001b[0m, in \u001b[0;36mClient.stock_candles\u001b[1;34m(self, symbol, resolution, _from, to, **kwargs)\u001b[0m\n\u001b[0;32m    218\u001b[0m \u001b[38;5;28;01mdef\u001b[39;00m \u001b[38;5;21mstock_candles\u001b[39m(\u001b[38;5;28mself\u001b[39m, symbol, resolution, _from, to, \u001b[38;5;241m*\u001b[39m\u001b[38;5;241m*\u001b[39mkwargs):\n\u001b[0;32m    219\u001b[0m     params \u001b[38;5;241m=\u001b[39m \u001b[38;5;28mself\u001b[39m\u001b[38;5;241m.\u001b[39m_merge_two_dicts({\n\u001b[0;32m    220\u001b[0m         \u001b[38;5;124m\"\u001b[39m\u001b[38;5;124msymbol\u001b[39m\u001b[38;5;124m\"\u001b[39m: symbol,\n\u001b[0;32m    221\u001b[0m         \u001b[38;5;124m\"\u001b[39m\u001b[38;5;124mresolution\u001b[39m\u001b[38;5;124m\"\u001b[39m: resolution,\n\u001b[0;32m    222\u001b[0m         \u001b[38;5;124m\"\u001b[39m\u001b[38;5;124mfrom\u001b[39m\u001b[38;5;124m\"\u001b[39m: _from,\n\u001b[0;32m    223\u001b[0m         \u001b[38;5;124m\"\u001b[39m\u001b[38;5;124mto\u001b[39m\u001b[38;5;124m\"\u001b[39m: to\n\u001b[0;32m    224\u001b[0m     }, kwargs)\n\u001b[1;32m--> 226\u001b[0m     \u001b[38;5;28;01mreturn\u001b[39;00m \u001b[38;5;28mself\u001b[39m\u001b[38;5;241m.\u001b[39m_get(\u001b[38;5;124m\"\u001b[39m\u001b[38;5;124m/stock/candle\u001b[39m\u001b[38;5;124m\"\u001b[39m, params\u001b[38;5;241m=\u001b[39mparams)\n",
      "File \u001b[1;32mC:\\Python\\Lib\\site-packages\\finnhub\\client.py:71\u001b[0m, in \u001b[0;36mClient._get\u001b[1;34m(self, path, **kwargs)\u001b[0m\n\u001b[0;32m     70\u001b[0m \u001b[38;5;28;01mdef\u001b[39;00m \u001b[38;5;21m_get\u001b[39m(\u001b[38;5;28mself\u001b[39m, path, \u001b[38;5;241m*\u001b[39m\u001b[38;5;241m*\u001b[39mkwargs):\n\u001b[1;32m---> 71\u001b[0m     \u001b[38;5;28;01mreturn\u001b[39;00m \u001b[38;5;28mself\u001b[39m\u001b[38;5;241m.\u001b[39m_request(\u001b[38;5;124m\"\u001b[39m\u001b[38;5;124mget\u001b[39m\u001b[38;5;124m\"\u001b[39m, path, \u001b[38;5;241m*\u001b[39m\u001b[38;5;241m*\u001b[39mkwargs)\n",
      "File \u001b[1;32mC:\\Python\\Lib\\site-packages\\finnhub\\client.py:41\u001b[0m, in \u001b[0;36mClient._request\u001b[1;34m(self, method, path, **kwargs)\u001b[0m\n\u001b[0;32m     38\u001b[0m kwargs[\u001b[38;5;124m\"\u001b[39m\u001b[38;5;124mparams\u001b[39m\u001b[38;5;124m\"\u001b[39m] \u001b[38;5;241m=\u001b[39m \u001b[38;5;28mself\u001b[39m\u001b[38;5;241m.\u001b[39m_format_params(kwargs\u001b[38;5;241m.\u001b[39mget(\u001b[38;5;124m\"\u001b[39m\u001b[38;5;124mparams\u001b[39m\u001b[38;5;124m\"\u001b[39m, {}))\n\u001b[0;32m     40\u001b[0m response \u001b[38;5;241m=\u001b[39m \u001b[38;5;28mgetattr\u001b[39m(\u001b[38;5;28mself\u001b[39m\u001b[38;5;241m.\u001b[39m_session, method)(uri, \u001b[38;5;241m*\u001b[39m\u001b[38;5;241m*\u001b[39mkwargs)\n\u001b[1;32m---> 41\u001b[0m \u001b[38;5;28;01mreturn\u001b[39;00m \u001b[38;5;28mself\u001b[39m\u001b[38;5;241m.\u001b[39m_handle_response(response)\n",
      "File \u001b[1;32mC:\\Python\\Lib\\site-packages\\finnhub\\client.py:46\u001b[0m, in \u001b[0;36mClient._handle_response\u001b[1;34m(response)\u001b[0m\n\u001b[0;32m     43\u001b[0m \u001b[38;5;129m@staticmethod\u001b[39m\n\u001b[0;32m     44\u001b[0m \u001b[38;5;28;01mdef\u001b[39;00m \u001b[38;5;21m_handle_response\u001b[39m(response):\n\u001b[0;32m     45\u001b[0m     \u001b[38;5;28;01mif\u001b[39;00m \u001b[38;5;129;01mnot\u001b[39;00m response\u001b[38;5;241m.\u001b[39mok:\n\u001b[1;32m---> 46\u001b[0m         \u001b[38;5;28;01mraise\u001b[39;00m FinnhubAPIException(response)\n\u001b[0;32m     48\u001b[0m     \u001b[38;5;28;01mtry\u001b[39;00m:\n\u001b[0;32m     49\u001b[0m         content_type \u001b[38;5;241m=\u001b[39m response\u001b[38;5;241m.\u001b[39mheaders\u001b[38;5;241m.\u001b[39mget(\u001b[38;5;124m'\u001b[39m\u001b[38;5;124mContent-Type\u001b[39m\u001b[38;5;124m'\u001b[39m, \u001b[38;5;124m'\u001b[39m\u001b[38;5;124m'\u001b[39m)\n",
      "\u001b[1;31mFinnhubAPIException\u001b[0m: FinnhubAPIException(status_code: 403): You don't have access to this resource."
     ]
    }
   ],
   "source": [
    "res = finnhub_client.stock_candles('AAPL', 'D', 1590988249, 1591852249)\n",
    "print(res)"
   ]
  },
  {
   "cell_type": "code",
   "execution_count": 9,
   "id": "52307171",
   "metadata": {},
   "outputs": [
    {
     "name": "stderr",
     "output_type": "stream",
     "text": [
      "2025-05-29 13:31:57,830 - INFO - Fetching monthly data for AAPL\n",
      "2025-05-29 13:31:58,245 - ERROR - Failed to fetch AAPL: FinnhubAPIException(status_code: 403): You don't have access to this resource.\n",
      "2025-05-29 13:31:58,245 - INFO - Fetching monthly data for MSFT\n",
      "2025-05-29 13:31:58,284 - ERROR - Failed to fetch MSFT: FinnhubAPIException(status_code: 403): You don't have access to this resource.\n",
      "2025-05-29 13:31:58,284 - INFO - Fetching monthly data for GOOG\n",
      "2025-05-29 13:31:58,324 - ERROR - Failed to fetch GOOG: FinnhubAPIException(status_code: 403): You don't have access to this resource.\n"
     ]
    }
   ],
   "source": [
    "# Finnhub.io setup\n",
    "import finnhub\n",
    "import pandas as pd\n",
    "import time\n",
    "import os\n",
    "from pathlib import Path\n",
    "import logging\n",
    "from datetime import datetime\n",
    "import calendar\n",
    "\n",
    "# Setup logging\n",
    "logging.basicConfig(level=logging.INFO, format='%(asctime)s - %(levelname)s - %(message)s')\n",
    "\n",
    "# Replace with your Finnhub API Key\n",
    "FINNHUB_API_KEY = \"d0s9i2hr01qkkpltrpe0d0s9i2hr01qkkpltrpeg\"\n",
    "finnhub_client = finnhub.Client(api_key=FINNHUB_API_KEY)\n",
    "\n",
    "# Tickers to fetch\n",
    "tickers = ['AAPL', 'MSFT', 'GOOG']\n",
    "\n",
    "# Output directory\n",
    "output_dir = Path(\"finnhub_monthly\")\n",
    "output_dir.mkdir(parents=True, exist_ok=True)\n",
    "\n",
    "def get_month_start_end_dates(year: int, month: int):\n",
    "    first_day = datetime(year, month, 1)\n",
    "    last_day = datetime(year, month, calendar.monthrange(year, month)[1])\n",
    "    return int(first_day.timestamp()), int(last_day.timestamp())\n",
    "\n",
    "# Fetch and save monthly data\n",
    "for ticker in tickers:\n",
    "    logging.info(f\"Fetching monthly data for {ticker}\")\n",
    "    try:\n",
    "        all_months = []\n",
    "        for year in range(2015, 2025):\n",
    "            for month in range(1, 13):\n",
    "                start, end = get_month_start_end_dates(year, month)\n",
    "                candles = finnhub_client.stock_candles(ticker, 'D', start, end)\n",
    "                if candles.get('s') != 'ok':\n",
    "                    continue\n",
    "                df = pd.DataFrame(candles)\n",
    "                df['t'] = pd.to_datetime(df['t'], unit='s')\n",
    "                monthly_df = df.groupby(df['t'].dt.to_period('M')).agg({\n",
    "                    'o': 'first',\n",
    "                    'h': 'max',\n",
    "                    'l': 'min',\n",
    "                    'c': 'last',\n",
    "                    'v': 'sum'\n",
    "                }).reset_index()\n",
    "                all_months.append(monthly_df)\n",
    "\n",
    "        if all_months:\n",
    "            final_df = pd.concat(all_months)\n",
    "            final_df.rename(columns={\n",
    "                't': 'Date',\n",
    "                'o': 'Open',\n",
    "                'h': 'High',\n",
    "                'l': 'Low',\n",
    "                'c': 'Close',\n",
    "                'v': 'Volume'\n",
    "            }, inplace=True)\n",
    "            final_df['Date'] = final_df['Date'].astype(str)\n",
    "            final_df = final_df.round(4)\n",
    "            final_df.to_csv(output_dir / f\"{ticker}_monthly.csv\", index=False)\n",
    "            logging.info(f\"Saved {ticker} to {output_dir}/{ticker}_monthly.csv\")\n",
    "        time.sleep(1)\n",
    "    except Exception as e:\n",
    "        logging.error(f\"Failed to fetch {ticker}: {e}\")\n"
   ]
  },
  {
   "cell_type": "code",
   "execution_count": null,
   "id": "aea56730",
   "metadata": {},
   "outputs": [],
   "source": []
  }
 ],
 "metadata": {
  "kernelspec": {
   "display_name": "Python 3 (ipykernel)",
   "language": "python",
   "name": "python3"
  },
  "language_info": {
   "codemirror_mode": {
    "name": "ipython",
    "version": 3
   },
   "file_extension": ".py",
   "mimetype": "text/x-python",
   "name": "python",
   "nbconvert_exporter": "python",
   "pygments_lexer": "ipython3",
   "version": "3.11.5"
  }
 },
 "nbformat": 4,
 "nbformat_minor": 5
}
