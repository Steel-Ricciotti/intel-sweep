{
 "cells": [
  {
   "cell_type": "code",
   "execution_count": 1,
   "id": "0e7317dd",
   "metadata": {},
   "outputs": [],
   "source": [
    "import pandas as pd\n",
    "import logging\n",
    "from pathlib import Path\n",
    "\n",
    "logging.basicConfig(level=logging.INFO, format='%(asctime)s - %(name)s - %(levelname)s - %(message)s')\n",
    "logger = logging.getLogger(\"NotebookPrepData\")\n"
   ]
  },
  {
   "cell_type": "code",
   "execution_count": 4,
   "id": "9a0abcbd",
   "metadata": {},
   "outputs": [],
   "source": [
    "# Paths to FRED CSVs and Stock CSV\n",
    "fred_files = [\n",
    "    Path(\"fred_economic_indicators/00XALCATM086NEST.csv\"),\n",
    "    Path(\"fred_economic_indicators/00XALCBEM086NEST.csv\"),\n",
    "    Path(\"fred_economic_indicators/00XALCCZM086NEST.csv\")\n",
    "]\n",
    "stock_file = Path(\"av_monthly/AAPL_monthly.csv\")"
   ]
  },
  {
   "cell_type": "code",
   "execution_count": null,
   "id": "689f840d",
   "metadata": {},
   "outputs": [],
   "source": [
    "# Load just one file for testing line 31\n",
    "test_fred_file = fred_files[0]\n",
    "df = pd.read_csv(test_fred_file)\n",
    "print(df.head())  # Check column names before datetime conversion\n",
    "\n",
    "# ✅ Line 31 Test\n",
    "df['Date'] = pd.to_datetime(df['Date'])\n",
    "print(df.dtypes)  # Check that 'Date' is now datetime64[ns]"
   ]
  }
 ],
 "metadata": {
  "kernelspec": {
   "display_name": "Python 3 (ipykernel)",
   "language": "python",
   "name": "python3"
  },
  "language_info": {
   "codemirror_mode": {
    "name": "ipython",
    "version": 3
   },
   "file_extension": ".py",
   "mimetype": "text/x-python",
   "name": "python",
   "nbconvert_exporter": "python",
   "pygments_lexer": "ipython3",
   "version": "3.11.5"
  }
 },
 "nbformat": 4,
 "nbformat_minor": 5
}
