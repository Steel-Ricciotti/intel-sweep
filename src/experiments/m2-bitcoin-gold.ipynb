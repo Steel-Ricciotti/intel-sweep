{
 "cells": [
  {
   "cell_type": "code",
   "execution_count": 8,
   "id": "082ebaea",
   "metadata": {},
   "outputs": [
    {
     "name": "stderr",
     "output_type": "stream",
     "text": [
      "ERROR:src.classes.data_loaders:Error fetching M2SL: 400 Client Error: Bad Request for url: https://api.stlouisfed.org/fred/series/observations?series_id=M2SL&api_key=17188a6953269ab608ba14c3e3d8fb02-3&realtime_start=2010-01-01&realtime_end=2025-04-30&observation_start=2010-01-01&observation_end=2025-04-30&file_type=json\n",
      "ERROR:src.classes.ETL2:No data after merging for m2_btc-usd\n"
     ]
    },
    {
     "ename": "KeyError",
     "evalue": "'BTC-USD_Close'",
     "output_type": "error",
     "traceback": [
      "\u001b[1;31m---------------------------------------------------------------------------\u001b[0m",
      "\u001b[1;31mKeyError\u001b[0m                                  Traceback (most recent call last)",
      "Cell \u001b[1;32mIn[8], line 26\u001b[0m\n\u001b[0;32m     23\u001b[0m logger\u001b[38;5;241m.\u001b[39minfo(\u001b[38;5;124mf\u001b[39m\u001b[38;5;124m\"\u001b[39m\u001b[38;5;124mMerged data shape for \u001b[39m\u001b[38;5;132;01m{\u001b[39;00mequity\u001b[38;5;132;01m}\u001b[39;00m\u001b[38;5;124m: \u001b[39m\u001b[38;5;132;01m{\u001b[39;00mdata\u001b[38;5;241m.\u001b[39mshape\u001b[38;5;132;01m}\u001b[39;00m\u001b[38;5;124m\"\u001b[39m)\n\u001b[0;32m     25\u001b[0m \u001b[38;5;66;03m# Engineer features\u001b[39;00m\n\u001b[1;32m---> 26\u001b[0m combined_data \u001b[38;5;241m=\u001b[39m feature_engineer\u001b[38;5;241m.\u001b[39mtransform(data, \u001b[38;5;124mf\u001b[39m\u001b[38;5;124m'\u001b[39m\u001b[38;5;132;01m{\u001b[39;00mequity\u001b[38;5;132;01m}\u001b[39;00m\u001b[38;5;124m_Close\u001b[39m\u001b[38;5;124m'\u001b[39m)\n\u001b[0;32m     27\u001b[0m logger\u001b[38;5;241m.\u001b[39minfo(\u001b[38;5;124mf\u001b[39m\u001b[38;5;124m\"\u001b[39m\u001b[38;5;124mEngineered data shape for \u001b[39m\u001b[38;5;132;01m{\u001b[39;00mequity\u001b[38;5;132;01m}\u001b[39;00m\u001b[38;5;124m: \u001b[39m\u001b[38;5;132;01m{\u001b[39;00mcombined_data\u001b[38;5;241m.\u001b[39mshape\u001b[38;5;132;01m}\u001b[39;00m\u001b[38;5;124m\"\u001b[39m)\n\u001b[0;32m     29\u001b[0m \u001b[38;5;66;03m# Define features\u001b[39;00m\n",
      "File \u001b[1;32mc:\\Users\\Steel\\Desktop\\Projects\\intel-sweep-v2\\intel-sweep\\src\\classes\\features.py:53\u001b[0m, in \u001b[0;36mFeatureEngineer.transform\u001b[1;34m(self, df, target_col)\u001b[0m\n\u001b[0;32m     51\u001b[0m \u001b[38;5;66;03m# Moving averages and volatility for target\u001b[39;00m\n\u001b[0;32m     52\u001b[0m \u001b[38;5;28;01mfor\u001b[39;00m window \u001b[38;5;129;01min\u001b[39;00m \u001b[38;5;28mself\u001b[39m\u001b[38;5;241m.\u001b[39mma_windows:\n\u001b[1;32m---> 53\u001b[0m     df[\u001b[38;5;124mf\u001b[39m\u001b[38;5;124m'\u001b[39m\u001b[38;5;132;01m{\u001b[39;00mtarget_col\u001b[38;5;132;01m}\u001b[39;00m\u001b[38;5;124m_ma\u001b[39m\u001b[38;5;132;01m{\u001b[39;00mwindow\u001b[38;5;132;01m}\u001b[39;00m\u001b[38;5;124m'\u001b[39m] \u001b[38;5;241m=\u001b[39m df[target_col]\u001b[38;5;241m.\u001b[39mrolling(window\u001b[38;5;241m=\u001b[39mwindow)\u001b[38;5;241m.\u001b[39mmean()\n\u001b[0;32m     54\u001b[0m df[\u001b[38;5;124mf\u001b[39m\u001b[38;5;124m'\u001b[39m\u001b[38;5;132;01m{\u001b[39;00mtarget_col\u001b[38;5;132;01m}\u001b[39;00m\u001b[38;5;124m_volatility\u001b[39m\u001b[38;5;124m'\u001b[39m] \u001b[38;5;241m=\u001b[39m df[target_col]\u001b[38;5;241m.\u001b[39mrolling(window\u001b[38;5;241m=\u001b[39m\u001b[38;5;241m3\u001b[39m)\u001b[38;5;241m.\u001b[39mstd()\n\u001b[0;32m     56\u001b[0m \u001b[38;5;66;03m# Drop NaNs and ensure unique index\u001b[39;00m\n",
      "File \u001b[1;32mc:\\Python\\Lib\\site-packages\\pandas\\core\\frame.py:3761\u001b[0m, in \u001b[0;36mDataFrame.__getitem__\u001b[1;34m(self, key)\u001b[0m\n\u001b[0;32m   3759\u001b[0m \u001b[38;5;28;01mif\u001b[39;00m \u001b[38;5;28mself\u001b[39m\u001b[38;5;241m.\u001b[39mcolumns\u001b[38;5;241m.\u001b[39mnlevels \u001b[38;5;241m>\u001b[39m \u001b[38;5;241m1\u001b[39m:\n\u001b[0;32m   3760\u001b[0m     \u001b[38;5;28;01mreturn\u001b[39;00m \u001b[38;5;28mself\u001b[39m\u001b[38;5;241m.\u001b[39m_getitem_multilevel(key)\n\u001b[1;32m-> 3761\u001b[0m indexer \u001b[38;5;241m=\u001b[39m \u001b[38;5;28mself\u001b[39m\u001b[38;5;241m.\u001b[39mcolumns\u001b[38;5;241m.\u001b[39mget_loc(key)\n\u001b[0;32m   3762\u001b[0m \u001b[38;5;28;01mif\u001b[39;00m is_integer(indexer):\n\u001b[0;32m   3763\u001b[0m     indexer \u001b[38;5;241m=\u001b[39m [indexer]\n",
      "File \u001b[1;32mc:\\Python\\Lib\\site-packages\\pandas\\core\\indexes\\range.py:349\u001b[0m, in \u001b[0;36mRangeIndex.get_loc\u001b[1;34m(self, key)\u001b[0m\n\u001b[0;32m    347\u001b[0m         \u001b[38;5;28;01mraise\u001b[39;00m \u001b[38;5;167;01mKeyError\u001b[39;00m(key) \u001b[38;5;28;01mfrom\u001b[39;00m \u001b[38;5;21;01merr\u001b[39;00m\n\u001b[0;32m    348\u001b[0m \u001b[38;5;28;01mif\u001b[39;00m \u001b[38;5;28misinstance\u001b[39m(key, Hashable):\n\u001b[1;32m--> 349\u001b[0m     \u001b[38;5;28;01mraise\u001b[39;00m \u001b[38;5;167;01mKeyError\u001b[39;00m(key)\n\u001b[0;32m    350\u001b[0m \u001b[38;5;28mself\u001b[39m\u001b[38;5;241m.\u001b[39m_check_indexing_error(key)\n\u001b[0;32m    351\u001b[0m \u001b[38;5;28;01mraise\u001b[39;00m \u001b[38;5;167;01mKeyError\u001b[39;00m(key)\n",
      "\u001b[1;31mKeyError\u001b[0m: 'BTC-USD_Close'"
     ]
    }
   ],
   "source": [
    "# In src/experiments/m2_equities.py\n",
    "from src.classes.ETL2 import ETL\n",
    "from src.classes.features import FeatureEngineer  # Assume engineer_features is refactored similarly\n",
    "import logging \n",
    "logging.basicConfig(level=logging.INFO, format='%(asctime)s - %(name)s - %(levelname)s - %(message)s')\n",
    "logger = logging.getLogger(__name__)\n",
    "if __name__ == \"__main__\":\n",
    "    leading_indicators = ['M2SL']\n",
    "    equities = ['BTC-USD', 'GLD', 'SLV']\n",
    "    lag_periods = [1, 3, 6]\n",
    "    ma_windows = [3, 12]\n",
    "    horizon = 1\n",
    "    results = []\n",
    "    data_dir = \"C:/Users/Steel/Desktop/Projects/intel-sweep/intel-sweep/data\"\n",
    "\n",
    "    etl = ETL(data_dir=data_dir)\n",
    "    feature_engineer = FeatureEngineer(lag_periods=lag_periods, ma_windows=ma_windows)\n",
    "\n",
    "    for equity in equities:\n",
    "        logger.info(f\"Processing {equity}\")\n",
    "        # Run ETL pipeline\n",
    "        data = etl.run(stock_list=[equity], indicators=leading_indicators, experiment_name=f\"m2_{equity.lower()}\")\n",
    "        logger.info(f\"Merged data shape for {equity}: {data.shape}\")\n",
    "        \n",
    "        # Engineer features\n",
    "        combined_data = feature_engineer.transform(data, f'{equity}_Close')\n",
    "        logger.info(f\"Engineered data shape for {equity}: {combined_data.shape}\")\n",
    "        \n",
    "        # Define features\n",
    "        indicator = \"M2SL\"\n",
    "        features = [indicator, f\"{indicator}_lag1\", f\"{indicator}_lag3\", f\"{indicator}_lag6\",\n",
    "                    f\"{equity}_Close_ma3\", f\"{equity}_Close_ma12\", f\"{equity}_Volume_lag1\", f\"{equity}_Close_volatility\"]\n",
    "        \n",
    "        # Train model (unchanged)\n",
    "        model, metrics, backtest_df = train_pytorch_forecast(combined_data, f\"{equity}_Close\", features, horizon)\n",
    "        \n",
    "        if backtest_df is not None:\n",
    "            logger.info(f\"Model metrics for {equity}: {metrics}\")\n",
    "            results.append({\n",
    "                'ticker': equity,\n",
    "                'horizon': horizon,\n",
    "                'metrics': metrics,\n",
    "                'backtest_df': backtest_df\n",
    "            })\n",
    "\n",
    "    if results:\n",
    "        create_dashboard(results)"
   ]
  },
  {
   "cell_type": "code",
   "execution_count": null,
   "id": "93c95ae0",
   "metadata": {},
   "outputs": [],
   "source": []
  }
 ],
 "metadata": {
  "kernelspec": {
   "display_name": "base",
   "language": "python",
   "name": "python3"
  },
  "language_info": {
   "codemirror_mode": {
    "name": "ipython",
    "version": 3
   },
   "file_extension": ".py",
   "mimetype": "text/x-python",
   "name": "python",
   "nbconvert_exporter": "python",
   "pygments_lexer": "ipython3",
   "version": "3.11.5"
  }
 },
 "nbformat": 4,
 "nbformat_minor": 5
}
