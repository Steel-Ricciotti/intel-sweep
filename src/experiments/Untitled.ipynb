{
 "cells": [
  {
   "cell_type": "code",
   "execution_count": 3,
   "id": "9f8397b1",
   "metadata": {},
   "outputs": [
    {
     "name": "stderr",
     "output_type": "stream",
     "text": [
      "2025-05-31 16:09:37,430 - __main__ - INFO - Processing BTC-USD\n",
      "2025-05-31 16:09:37,430 - src.classes.ETL2 - INFO - Running ETL pipeline for experiment: m2_btc-usd\n",
      "2025-05-31 16:09:37,431 - src.classes.ETL2 - INFO - Merging data for experiment: m2_btc-usd\n",
      "2025-05-31 16:09:37,431 - src.classes.ETL2 - INFO - Extracting stock data for BTC-USD\n",
      "2025-05-31 16:09:37,432 - src.classes.data_loaders - INFO - Fetching monthly data for BTC-USD\n",
      "2025-05-31 16:09:37,442 - src.classes.ETL2 - INFO - Extracting indicator data for M2SL\n",
      "2025-05-31 16:09:37,443 - src.classes.data_loaders - INFO - Fetching FRED data for M2SL\n",
      "2025-05-31 16:09:37,909 - src.classes.data_loaders - ERROR - Error fetching M2SL: 400 Client Error: Bad Request for url: https://api.stlouisfed.org/fred/series/observations?series_id=M2SL&api_key=17188a6953269ab608ba14c3e3d8fb02-3&realtime_start=2010-01-01&realtime_end=2025-04-30&observation_start=2010-01-01&observation_end=2025-04-30&file_type=json\n",
      "2025-05-31 16:09:37,912 - src.classes.ETL2 - INFO - Added indicator M2SL to merged data\n",
      "2025-05-31 16:09:37,914 - src.classes.ETL2 - ERROR - No data after merging for m2_btc-usd\n",
      "2025-05-31 16:09:37,915 - __main__ - INFO - Processing GLD\n",
      "2025-05-31 16:09:37,916 - src.classes.ETL2 - INFO - Running ETL pipeline for experiment: m2_gld\n",
      "2025-05-31 16:09:37,916 - src.classes.ETL2 - INFO - Merging data for experiment: m2_gld\n",
      "2025-05-31 16:09:37,917 - src.classes.ETL2 - INFO - Extracting stock data for GLD\n",
      "2025-05-31 16:09:37,918 - src.classes.data_loaders - INFO - Fetching monthly data for GLD\n",
      "2025-05-31 16:09:37,942 - src.classes.ETL2 - INFO - Extracting indicator data for M2SL\n",
      "2025-05-31 16:09:37,943 - src.classes.data_loaders - INFO - Fetching FRED data for M2SL\n",
      "2025-05-31 16:09:38,362 - src.classes.data_loaders - ERROR - Error fetching M2SL: 400 Client Error: Bad Request for url: https://api.stlouisfed.org/fred/series/observations?series_id=M2SL&api_key=17188a6953269ab608ba14c3e3d8fb02-3&realtime_start=2010-01-01&realtime_end=2025-04-30&observation_start=2010-01-01&observation_end=2025-04-30&file_type=json\n",
      "2025-05-31 16:09:38,365 - src.classes.ETL2 - INFO - Added indicator M2SL to merged data\n",
      "2025-05-31 16:09:38,367 - src.classes.ETL2 - ERROR - No data after merging for m2_gld\n",
      "2025-05-31 16:09:38,368 - __main__ - INFO - Processing SLV\n",
      "2025-05-31 16:09:38,368 - src.classes.ETL2 - INFO - Running ETL pipeline for experiment: m2_slv\n",
      "2025-05-31 16:09:38,368 - src.classes.ETL2 - INFO - Merging data for experiment: m2_slv\n",
      "2025-05-31 16:09:38,369 - src.classes.ETL2 - INFO - Extracting stock data for SLV\n",
      "2025-05-31 16:09:38,370 - src.classes.data_loaders - INFO - Fetching monthly data for SLV\n",
      "2025-05-31 16:09:38,641 - src.classes.ETL2 - INFO - Extracting indicator data for M2SL\n",
      "2025-05-31 16:09:38,642 - src.classes.data_loaders - INFO - Fetching FRED data for M2SL\n",
      "2025-05-31 16:09:39,075 - src.classes.data_loaders - ERROR - Error fetching M2SL: 400 Client Error: Bad Request for url: https://api.stlouisfed.org/fred/series/observations?series_id=M2SL&api_key=17188a6953269ab608ba14c3e3d8fb02-3&realtime_start=2010-01-01&realtime_end=2025-04-30&observation_start=2010-01-01&observation_end=2025-04-30&file_type=json\n"
     ]
    },
    {
     "ename": "MergeError",
     "evalue": "Not allowed to merge between different levels. (2 levels on the left, 1 on the right)",
     "output_type": "error",
     "traceback": [
      "\u001b[1;31m---------------------------------------------------------------------------\u001b[0m",
      "\u001b[1;31mMergeError\u001b[0m                                Traceback (most recent call last)",
      "Cell \u001b[1;32mIn[3], line 24\u001b[0m\n\u001b[0;32m     22\u001b[0m logger\u001b[38;5;241m.\u001b[39minfo(\u001b[38;5;124mf\u001b[39m\u001b[38;5;124m\"\u001b[39m\u001b[38;5;124mProcessing \u001b[39m\u001b[38;5;132;01m{\u001b[39;00mequity\u001b[38;5;132;01m}\u001b[39;00m\u001b[38;5;124m\"\u001b[39m)\n\u001b[0;32m     23\u001b[0m \u001b[38;5;66;03m# Run ETL pipeline\u001b[39;00m\n\u001b[1;32m---> 24\u001b[0m data \u001b[38;5;241m=\u001b[39m etl\u001b[38;5;241m.\u001b[39mrun(stock_list\u001b[38;5;241m=\u001b[39m[equity], indicators\u001b[38;5;241m=\u001b[39mleading_indicators, experiment_name\u001b[38;5;241m=\u001b[39m\u001b[38;5;124mf\u001b[39m\u001b[38;5;124m\"\u001b[39m\u001b[38;5;124mm2_\u001b[39m\u001b[38;5;132;01m{\u001b[39;00mequity\u001b[38;5;241m.\u001b[39mlower()\u001b[38;5;132;01m}\u001b[39;00m\u001b[38;5;124m\"\u001b[39m)\n",
      "File \u001b[1;32m~\\Desktop\\Projects\\intel-sweep-v2\\intel-sweep\\src\\classes\\ETL2.py:167\u001b[0m, in \u001b[0;36mETL.run\u001b[1;34m(self, stock_list, indicators, experiment_name)\u001b[0m\n\u001b[0;32m    155\u001b[0m \u001b[38;5;250m\u001b[39m\u001b[38;5;124;03m\"\"\"\u001b[39;00m\n\u001b[0;32m    156\u001b[0m \u001b[38;5;124;03mExecute full ETL pipeline for a given experiment.\u001b[39;00m\n\u001b[0;32m    157\u001b[0m \u001b[38;5;124;03m\u001b[39;00m\n\u001b[1;32m   (...)\u001b[0m\n\u001b[0;32m    164\u001b[0m \u001b[38;5;124;03m    pd.DataFrame: Merged and cleaned data.\u001b[39;00m\n\u001b[0;32m    165\u001b[0m \u001b[38;5;124;03m\"\"\"\u001b[39;00m\n\u001b[0;32m    166\u001b[0m logger\u001b[38;5;241m.\u001b[39minfo(\u001b[38;5;124mf\u001b[39m\u001b[38;5;124m\"\u001b[39m\u001b[38;5;124mRunning ETL pipeline for experiment: \u001b[39m\u001b[38;5;132;01m{\u001b[39;00mexperiment_name\u001b[38;5;132;01m}\u001b[39;00m\u001b[38;5;124m\"\u001b[39m)\n\u001b[1;32m--> 167\u001b[0m merged_data \u001b[38;5;241m=\u001b[39m \u001b[38;5;28mself\u001b[39m\u001b[38;5;241m.\u001b[39mtransform_merge(stock_list, indicators, experiment_name)\n\u001b[0;32m    168\u001b[0m \u001b[38;5;28;01mif\u001b[39;00m \u001b[38;5;129;01mnot\u001b[39;00m merged_data\u001b[38;5;241m.\u001b[39mempty:\n\u001b[0;32m    169\u001b[0m     \u001b[38;5;28mself\u001b[39m\u001b[38;5;241m.\u001b[39mload(merged_data, \u001b[38;5;124mf\u001b[39m\u001b[38;5;124m\"\u001b[39m\u001b[38;5;132;01m{\u001b[39;00mexperiment_name\u001b[38;5;132;01m}\u001b[39;00m\u001b[38;5;124m_combined.csv\u001b[39m\u001b[38;5;124m\"\u001b[39m)\n",
      "File \u001b[1;32m~\\Desktop\\Projects\\intel-sweep-v2\\intel-sweep\\src\\classes\\ETL2.py:117\u001b[0m, in \u001b[0;36mETL.transform_merge\u001b[1;34m(self, stock_list, indicators, experiment_name)\u001b[0m\n\u001b[0;32m    115\u001b[0m indicator_data \u001b[38;5;241m=\u001b[39m \u001b[38;5;28mself\u001b[39m\u001b[38;5;241m.\u001b[39mextract_indicator(indicator)\n\u001b[0;32m    116\u001b[0m \u001b[38;5;28;01mif\u001b[39;00m indicator_data \u001b[38;5;129;01mis\u001b[39;00m \u001b[38;5;129;01mnot\u001b[39;00m \u001b[38;5;28;01mNone\u001b[39;00m:\n\u001b[1;32m--> 117\u001b[0m     merged_data \u001b[38;5;241m=\u001b[39m merged_data\u001b[38;5;241m.\u001b[39mmerge(indicator_data, left_index\u001b[38;5;241m=\u001b[39m\u001b[38;5;28;01mTrue\u001b[39;00m, right_index\u001b[38;5;241m=\u001b[39m\u001b[38;5;28;01mTrue\u001b[39;00m, how\u001b[38;5;241m=\u001b[39m\u001b[38;5;124m'\u001b[39m\u001b[38;5;124minner\u001b[39m\u001b[38;5;124m'\u001b[39m)\n\u001b[0;32m    118\u001b[0m     logger\u001b[38;5;241m.\u001b[39minfo(\u001b[38;5;124mf\u001b[39m\u001b[38;5;124m\"\u001b[39m\u001b[38;5;124mAdded indicator \u001b[39m\u001b[38;5;132;01m{\u001b[39;00mindicator\u001b[38;5;132;01m}\u001b[39;00m\u001b[38;5;124m to merged data\u001b[39m\u001b[38;5;124m\"\u001b[39m)\n\u001b[0;32m    119\u001b[0m \u001b[38;5;28;01melse\u001b[39;00m:\n",
      "File \u001b[1;32mC:\\Python\\Lib\\site-packages\\pandas\\core\\frame.py:9843\u001b[0m, in \u001b[0;36mDataFrame.merge\u001b[1;34m(self, right, how, on, left_on, right_on, left_index, right_index, sort, suffixes, copy, indicator, validate)\u001b[0m\n\u001b[0;32m   9824\u001b[0m \u001b[38;5;129m@Substitution\u001b[39m(\u001b[38;5;124m\"\u001b[39m\u001b[38;5;124m\"\u001b[39m)\n\u001b[0;32m   9825\u001b[0m \u001b[38;5;129m@Appender\u001b[39m(_merge_doc, indents\u001b[38;5;241m=\u001b[39m\u001b[38;5;241m2\u001b[39m)\n\u001b[0;32m   9826\u001b[0m \u001b[38;5;28;01mdef\u001b[39;00m \u001b[38;5;21mmerge\u001b[39m(\n\u001b[1;32m   (...)\u001b[0m\n\u001b[0;32m   9839\u001b[0m     validate: \u001b[38;5;28mstr\u001b[39m \u001b[38;5;241m|\u001b[39m \u001b[38;5;28;01mNone\u001b[39;00m \u001b[38;5;241m=\u001b[39m \u001b[38;5;28;01mNone\u001b[39;00m,\n\u001b[0;32m   9840\u001b[0m ) \u001b[38;5;241m-\u001b[39m\u001b[38;5;241m>\u001b[39m DataFrame:\n\u001b[0;32m   9841\u001b[0m     \u001b[38;5;28;01mfrom\u001b[39;00m \u001b[38;5;21;01mpandas\u001b[39;00m\u001b[38;5;21;01m.\u001b[39;00m\u001b[38;5;21;01mcore\u001b[39;00m\u001b[38;5;21;01m.\u001b[39;00m\u001b[38;5;21;01mreshape\u001b[39;00m\u001b[38;5;21;01m.\u001b[39;00m\u001b[38;5;21;01mmerge\u001b[39;00m \u001b[38;5;28;01mimport\u001b[39;00m merge\n\u001b[1;32m-> 9843\u001b[0m     \u001b[38;5;28;01mreturn\u001b[39;00m merge(\n\u001b[0;32m   9844\u001b[0m         \u001b[38;5;28mself\u001b[39m,\n\u001b[0;32m   9845\u001b[0m         right,\n\u001b[0;32m   9846\u001b[0m         how\u001b[38;5;241m=\u001b[39mhow,\n\u001b[0;32m   9847\u001b[0m         on\u001b[38;5;241m=\u001b[39mon,\n\u001b[0;32m   9848\u001b[0m         left_on\u001b[38;5;241m=\u001b[39mleft_on,\n\u001b[0;32m   9849\u001b[0m         right_on\u001b[38;5;241m=\u001b[39mright_on,\n\u001b[0;32m   9850\u001b[0m         left_index\u001b[38;5;241m=\u001b[39mleft_index,\n\u001b[0;32m   9851\u001b[0m         right_index\u001b[38;5;241m=\u001b[39mright_index,\n\u001b[0;32m   9852\u001b[0m         sort\u001b[38;5;241m=\u001b[39msort,\n\u001b[0;32m   9853\u001b[0m         suffixes\u001b[38;5;241m=\u001b[39msuffixes,\n\u001b[0;32m   9854\u001b[0m         copy\u001b[38;5;241m=\u001b[39mcopy,\n\u001b[0;32m   9855\u001b[0m         indicator\u001b[38;5;241m=\u001b[39mindicator,\n\u001b[0;32m   9856\u001b[0m         validate\u001b[38;5;241m=\u001b[39mvalidate,\n\u001b[0;32m   9857\u001b[0m     )\n",
      "File \u001b[1;32mC:\\Python\\Lib\\site-packages\\pandas\\core\\reshape\\merge.py:148\u001b[0m, in \u001b[0;36mmerge\u001b[1;34m(left, right, how, on, left_on, right_on, left_index, right_index, sort, suffixes, copy, indicator, validate)\u001b[0m\n\u001b[0;32m    131\u001b[0m \u001b[38;5;129m@Substitution\u001b[39m(\u001b[38;5;124m\"\u001b[39m\u001b[38;5;130;01m\\n\u001b[39;00m\u001b[38;5;124mleft : DataFrame or named Series\u001b[39m\u001b[38;5;124m\"\u001b[39m)\n\u001b[0;32m    132\u001b[0m \u001b[38;5;129m@Appender\u001b[39m(_merge_doc, indents\u001b[38;5;241m=\u001b[39m\u001b[38;5;241m0\u001b[39m)\n\u001b[0;32m    133\u001b[0m \u001b[38;5;28;01mdef\u001b[39;00m \u001b[38;5;21mmerge\u001b[39m(\n\u001b[1;32m   (...)\u001b[0m\n\u001b[0;32m    146\u001b[0m     validate: \u001b[38;5;28mstr\u001b[39m \u001b[38;5;241m|\u001b[39m \u001b[38;5;28;01mNone\u001b[39;00m \u001b[38;5;241m=\u001b[39m \u001b[38;5;28;01mNone\u001b[39;00m,\n\u001b[0;32m    147\u001b[0m ) \u001b[38;5;241m-\u001b[39m\u001b[38;5;241m>\u001b[39m DataFrame:\n\u001b[1;32m--> 148\u001b[0m     op \u001b[38;5;241m=\u001b[39m _MergeOperation(\n\u001b[0;32m    149\u001b[0m         left,\n\u001b[0;32m    150\u001b[0m         right,\n\u001b[0;32m    151\u001b[0m         how\u001b[38;5;241m=\u001b[39mhow,\n\u001b[0;32m    152\u001b[0m         on\u001b[38;5;241m=\u001b[39mon,\n\u001b[0;32m    153\u001b[0m         left_on\u001b[38;5;241m=\u001b[39mleft_on,\n\u001b[0;32m    154\u001b[0m         right_on\u001b[38;5;241m=\u001b[39mright_on,\n\u001b[0;32m    155\u001b[0m         left_index\u001b[38;5;241m=\u001b[39mleft_index,\n\u001b[0;32m    156\u001b[0m         right_index\u001b[38;5;241m=\u001b[39mright_index,\n\u001b[0;32m    157\u001b[0m         sort\u001b[38;5;241m=\u001b[39msort,\n\u001b[0;32m    158\u001b[0m         suffixes\u001b[38;5;241m=\u001b[39msuffixes,\n\u001b[0;32m    159\u001b[0m         indicator\u001b[38;5;241m=\u001b[39mindicator,\n\u001b[0;32m    160\u001b[0m         validate\u001b[38;5;241m=\u001b[39mvalidate,\n\u001b[0;32m    161\u001b[0m     )\n\u001b[0;32m    162\u001b[0m     \u001b[38;5;28;01mreturn\u001b[39;00m op\u001b[38;5;241m.\u001b[39mget_result(copy\u001b[38;5;241m=\u001b[39mcopy)\n",
      "File \u001b[1;32mC:\\Python\\Lib\\site-packages\\pandas\\core\\reshape\\merge.py:717\u001b[0m, in \u001b[0;36m_MergeOperation.__init__\u001b[1;34m(self, left, right, how, on, left_on, right_on, axis, left_index, right_index, sort, suffixes, indicator, validate)\u001b[0m\n\u001b[0;32m    711\u001b[0m \u001b[38;5;28;01mif\u001b[39;00m _left\u001b[38;5;241m.\u001b[39mcolumns\u001b[38;5;241m.\u001b[39mnlevels \u001b[38;5;241m!=\u001b[39m _right\u001b[38;5;241m.\u001b[39mcolumns\u001b[38;5;241m.\u001b[39mnlevels:\n\u001b[0;32m    712\u001b[0m     msg \u001b[38;5;241m=\u001b[39m (\n\u001b[0;32m    713\u001b[0m         \u001b[38;5;124m\"\u001b[39m\u001b[38;5;124mNot allowed to merge between different levels. \u001b[39m\u001b[38;5;124m\"\u001b[39m\n\u001b[0;32m    714\u001b[0m         \u001b[38;5;124mf\u001b[39m\u001b[38;5;124m\"\u001b[39m\u001b[38;5;124m(\u001b[39m\u001b[38;5;132;01m{\u001b[39;00m_left\u001b[38;5;241m.\u001b[39mcolumns\u001b[38;5;241m.\u001b[39mnlevels\u001b[38;5;132;01m}\u001b[39;00m\u001b[38;5;124m levels on the left, \u001b[39m\u001b[38;5;124m\"\u001b[39m\n\u001b[0;32m    715\u001b[0m         \u001b[38;5;124mf\u001b[39m\u001b[38;5;124m\"\u001b[39m\u001b[38;5;132;01m{\u001b[39;00m_right\u001b[38;5;241m.\u001b[39mcolumns\u001b[38;5;241m.\u001b[39mnlevels\u001b[38;5;132;01m}\u001b[39;00m\u001b[38;5;124m on the right)\u001b[39m\u001b[38;5;124m\"\u001b[39m\n\u001b[0;32m    716\u001b[0m     )\n\u001b[1;32m--> 717\u001b[0m     \u001b[38;5;28;01mraise\u001b[39;00m MergeError(msg)\n\u001b[0;32m    719\u001b[0m \u001b[38;5;28mself\u001b[39m\u001b[38;5;241m.\u001b[39mleft_on, \u001b[38;5;28mself\u001b[39m\u001b[38;5;241m.\u001b[39mright_on \u001b[38;5;241m=\u001b[39m \u001b[38;5;28mself\u001b[39m\u001b[38;5;241m.\u001b[39m_validate_left_right_on(left_on, right_on)\n\u001b[0;32m    721\u001b[0m cross_col \u001b[38;5;241m=\u001b[39m \u001b[38;5;28;01mNone\u001b[39;00m\n",
      "\u001b[1;31mMergeError\u001b[0m: Not allowed to merge between different levels. (2 levels on the left, 1 on the right)"
     ]
    }
   ],
   "source": [
    "import sys\n",
    "import os\n",
    "sys.path.append(os.path.abspath(os.path.join(os.getcwd(), '..', '..')))\n",
    "from src.classes.ETL2 import ETL\n",
    "from src.classes.features import FeatureEngineer  # Assume engineer_features is refactored similarly\n",
    "import logging \n",
    "logging.basicConfig(level=logging.INFO, format='%(asctime)s - %(name)s - %(levelname)s - %(message)s')\n",
    "logger = logging.getLogger(__name__)\n",
    "if __name__ == \"__main__\":\n",
    "    leading_indicators = ['M2SL']\n",
    "    equities = ['BTC-USD', 'GLD', 'SLV']\n",
    "    lag_periods = [1, 3, 6]\n",
    "    ma_windows = [3, 12]\n",
    "    horizon = 1\n",
    "    results = []\n",
    "    data_dir = \"C:/Users/Steel/Desktop/Projects/intel-sweep/intel-sweep/data\"\n",
    "\n",
    "    etl = ETL(data_dir=data_dir)\n",
    "    feature_engineer = FeatureEngineer(lag_periods=lag_periods, ma_windows=ma_windows)\n",
    "\n",
    "    for equity in equities:\n",
    "        logger.info(f\"Processing {equity}\")\n",
    "        # Run ETL pipeline\n",
    "        data = etl.run(stock_list=[equity], indicators=leading_indicators, experiment_name=f\"m2_{equity.lower()}\")\n"
   ]
  },
  {
   "cell_type": "code",
   "execution_count": 4,
   "id": "0d3fa86f",
   "metadata": {
    "scrolled": true
   },
   "outputs": [
    {
     "name": "stdout",
     "output_type": "stream",
     "text": [
      "' BAA.csv '\n",
      "' BOPGSTB.csv '\n",
      "' BUSINV.csv '\n",
      "' CES0500000003.csv '\n",
      "' CFNAI.csv '\n",
      "' CIVPART.csv '\n",
      "' CPIAUCSL.csv '\n",
      "' CSUSHPINSA.csv '\n",
      "' DCOILWTICO.csv '\n",
      "' DGORDER.csv '\n",
      "' DGS10.csv '\n",
      "' FEDFUNDS.csv '\n",
      "' GDP.csv '\n",
      "' GDPC1.csv '\n",
      "' HOUST.csv '\n",
      "' ICSA.csv '\n",
      "' INDPRO.csv '\n",
      "' M2SL.csv '\n",
      "' MORTGAGE30US.csv '\n",
      "' MTSDS133FMS.csv '\n",
      "' PAYEMS.csv '\n",
      "' PCEPI.csv '\n",
      "' PERMIT.csv '\n",
      "' PI.csv '\n",
      "' PPIACO.csv '\n",
      "' RSXFS.csv '\n",
      "' SP500.csv '\n",
      "' SRVPRD.csv '\n",
      "' T10Y2Y.csv '\n",
      "' TB3MS.csv '\n",
      "' TCU.csv '\n",
      "' TEDRATE.csv '\n",
      "' UMCSENT.csv '\n",
      "' UNRATE.csv '\n",
      "' USSLIND.csv '\n",
      "' VIXCLS.csv '\n"
     ]
    }
   ],
   "source": [
    "import os\n",
    "for i in os.listdir(\"C:/Users/Steel/Desktop/Projects/intel-sweep-v2/intel-sweep/data/fred_economic_indicators\"):\n",
    "    print(\"'\",i,\"'\")"
   ]
  },
  {
   "cell_type": "code",
   "execution_count": null,
   "id": "c94732ba",
   "metadata": {},
   "outputs": [],
   "source": []
  }
 ],
 "metadata": {
  "kernelspec": {
   "display_name": "Python 3 (ipykernel)",
   "language": "python",
   "name": "python3"
  },
  "language_info": {
   "codemirror_mode": {
    "name": "ipython",
    "version": 3
   },
   "file_extension": ".py",
   "mimetype": "text/x-python",
   "name": "python",
   "nbconvert_exporter": "python",
   "pygments_lexer": "ipython3",
   "version": "3.11.5"
  }
 },
 "nbformat": 4,
 "nbformat_minor": 5
}
