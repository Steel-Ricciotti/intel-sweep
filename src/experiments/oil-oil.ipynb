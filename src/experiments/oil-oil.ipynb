{
 "cells": [
  {
   "cell_type": "code",
   "execution_count": null,
   "id": "2ac3d595",
   "metadata": {},
   "outputs": [],
   "source": [
    "# ISM New Orders vs Industrials/Logistics\n",
    "leading_indicators = 'DCOILWTICO'\n",
    "# Manufacturers' New Orders: Durable Goods \n",
    "equities = ['XOM', 'CVX', 'COP']"
   ]
  }
 ],
 "metadata": {
  "language_info": {
   "name": "python"
  }
 },
 "nbformat": 4,
 "nbformat_minor": 5
}
