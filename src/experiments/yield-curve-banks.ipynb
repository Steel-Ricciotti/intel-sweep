{
 "cells": [
  {
   "cell_type": "code",
   "execution_count": null,
   "id": "883c2c6a",
   "metadata": {},
   "outputs": [],
   "source": [
    "# Yield Curve vs Bank Stocks\n",
    "leading_indicators = 'T10Y3M'\n",
    "# Manufacturers' New Orders: Durable Goods \n",
    "equities = ['JPM', 'BAC', 'WFC', 'GS']"
   ]
  }
 ],
 "metadata": {
  "language_info": {
   "name": "python"
  }
 },
 "nbformat": 4,
 "nbformat_minor": 5
}
