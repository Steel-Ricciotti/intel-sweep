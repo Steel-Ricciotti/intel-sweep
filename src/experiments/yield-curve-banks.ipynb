{
 "cells": [
  {
   "cell_type": "code",
   "execution_count": null,
   "id": "883c2c6a",
   "metadata": {},
   "outputs": [
    {
     "ename": "NameError",
     "evalue": "name '__file__' is not defined",
     "output_type": "error",
     "traceback": [
      "\u001b[1;31m---------------------------------------------------------------------------\u001b[0m",
      "\u001b[1;31mNameError\u001b[0m                                 Traceback (most recent call last)",
      "Cell \u001b[1;32mIn[1], line 8\u001b[0m\n\u001b[0;32m      6\u001b[0m \u001b[38;5;28;01mimport\u001b[39;00m \u001b[38;5;21;01msys\u001b[39;00m\n\u001b[0;32m      7\u001b[0m \u001b[38;5;28;01mimport\u001b[39;00m \u001b[38;5;21;01mos\u001b[39;00m\n\u001b[1;32m----> 8\u001b[0m sys\u001b[38;5;241m.\u001b[39mpath\u001b[38;5;241m.\u001b[39mappend(os\u001b[38;5;241m.\u001b[39mpath\u001b[38;5;241m.\u001b[39mabspath(os\u001b[38;5;241m.\u001b[39mpath\u001b[38;5;241m.\u001b[39mjoin(os\u001b[38;5;241m.\u001b[39mpath\u001b[38;5;241m.\u001b[39mdirname(\u001b[38;5;18m__file__\u001b[39m), \u001b[38;5;124m'\u001b[39m\u001b[38;5;124m..\u001b[39m\u001b[38;5;124m'\u001b[39m, \u001b[38;5;124m'\u001b[39m\u001b[38;5;124m..\u001b[39m\u001b[38;5;124m'\u001b[39m)))\n\u001b[0;32m      9\u001b[0m \u001b[38;5;28;01mfrom\u001b[39;00m \u001b[38;5;21;01msrc\u001b[39;00m\u001b[38;5;21;01m.\u001b[39;00m\u001b[38;5;21;01mclasses\u001b[39;00m\u001b[38;5;21;01m.\u001b[39;00m\u001b[38;5;21;01mETL2\u001b[39;00m \u001b[38;5;28;01mimport\u001b[39;00m ETL\n\u001b[0;32m     10\u001b[0m \u001b[38;5;28;01mfrom\u001b[39;00m \u001b[38;5;21;01msrc\u001b[39;00m\u001b[38;5;21;01m.\u001b[39;00m\u001b[38;5;21;01mclasses\u001b[39;00m\u001b[38;5;21;01m.\u001b[39;00m\u001b[38;5;21;01mfeatures\u001b[39;00m \u001b[38;5;28;01mimport\u001b[39;00m FeatureEngineer\n",
      "\u001b[1;31mNameError\u001b[0m: name '__file__' is not defined"
     ]
    }
   ],
   "source": [
    "# Yield Curve vs Bank Stocks\n",
    "leading_indicators = 'T10Y3M'\n",
    "equities = ['JPM', 'BAC', 'WFC', 'GS']\n",
    "\n",
    "import sys\n",
    "import os\n",
    "sys.path.append(os.path.abspath(os.path.join(os.path.dirname(__file__), '..', '..')))\n",
    "from src.classes.ETL2 import ETL\n",
    "from src.classes.features import FeatureEngineer\n",
    "from src.models.models import Models\n",
    "from src.monitoring.monitoring import Monitoring\n",
    "import logging\n",
    "import pandas as pd\n",
    "\n",
    "logging.basicConfig(level=logging.INFO, format='%(asctime)s - %(name)s - %(levelname)s - %(message)s')\n",
    "logger = logging.getLogger(__name__)\n",
    "\n",
    "if __name__ == \"__main__\":\n",
    "\n",
    "    # leading_indicators = ['BAA','BOPGSTB','BUSINV','CES0500000003','CFNAI','CIVPART','CPIAUCSL','CSUSHPINSA','DCOILWTICO','DGORDER','DGS10','FEDFUNDS','GDP','GDPC1','HOUST','ICSA','INDPRO','M2SL','MORTGAGE30US','MTSDS133FMS','PAYEMS','PCEPI','PERMIT','PI','PPIACO','RSXFS','SP500','SRVPRD','T10Y2Y','TB3MS','TCU','TEDRATE','UMCSENT','UNRATE','USSLIND','VIXCLS']\n",
    "    lag_periods = [1, 3, 6]\n",
    "    ma_windows = [3, 12]\n",
    "    horizon = 1\n",
    "    results = []\n",
    "    data_dir = \"C:/Users/Steel/Desktop/Projects/intel-sweep/intel-sweep/data\"\n",
    "    output_dir = \"C:/Users/Steel/Desktop/Projects/intel-sweep/intel-sweep/outputs\"\n",
    "\n",
    "    etl = ETL(data_dir=data_dir)\n",
    "    feature_engineer = FeatureEngineer(lag_periods=lag_periods, ma_windows=ma_windows)\n",
    "    models = Models()\n",
    "    monitoring = Monitoring(output_dir=output_dir)\n",
    "\n",
    "    for equity in equities:\n",
    "        logger.info(f\"Processing {equity}\")\n",
    "        # Run ETL pipeline\n",
    "        data = etl.run(stock_list=[equity], indicators=leading_indicators, experiment_name=f\"m2_{equity.lower()}\")\n",
    "        logger.info(f\"Merged data shape for {equity}: {data.shape}\")\n",
    "        print(data.head())\n",
    "        # Engineer features\n",
    "        combined_data = feature_engineer.transform(data, f'{equity}_Close')\n",
    "        logger.info(f\"Engineered data shape for {equity}: {combined_data.shape}\")\n",
    "        \n",
    "        # Define features\n",
    "        # indicator = \"M2SL\"\n",
    "        features = [ f\"{equity}_Close_ma3\", f\"{equity}_Close_ma12\", f\"{equity}_Volume_lag1\", f\"{equity}_Close_volatility\"]\n",
    "\n",
    "        for i in leading_indicators:\n",
    "            features.append(i)\n",
    "            features.append(f\"{i}_lag1\")\n",
    "            features.append(f\"{i}_lag3\")\n",
    "            features.append(f\"{i}_lag6\")\n",
    "        # Train models\n",
    "        for model_type in ['LSTM', 'XGBoost', 'LinearRegression']:\n",
    "            logger.info(f\"Training {model_type} for {equity}\")\n",
    "            if model_type == 'LSTM':\n",
    "                model, metrics, backtest_df = models.train_pytorch_forecast(combined_data, f\"{equity}_Close\", features, horizon)\n",
    "            elif model_type == 'XGBoost':\n",
    "                model, metrics, backtest_df = models.train_xgboost(combined_data, f\"{equity}_Close\", features, horizon)\n",
    "            elif model_type == 'LinearRegression':\n",
    "                model, metrics, backtest_df = models.train_linear_regression(combined_data, f\"{equity}_Close\", features, horizon)\n",
    "            \n",
    "            if backtest_df is not None:\n",
    "                logger.info(f\"{model_type} metrics for {equity}: {metrics}\")\n",
    "                results.append({\n",
    "                    'ticker': f\"{equity}_{model_type}\",\n",
    "                    'horizon': horizon,\n",
    "                    'metrics': metrics,\n",
    "                    'backtest_df': backtest_df\n",
    "                })\n",
    "\n",
    "    if results:\n",
    "        monitoring.create_dashboard(results)\n"
   ]
  }
 ],
 "metadata": {
  "kernelspec": {
   "display_name": "base",
   "language": "python",
   "name": "python3"
  },
  "language_info": {
   "codemirror_mode": {
    "name": "ipython",
    "version": 3
   },
   "file_extension": ".py",
   "mimetype": "text/x-python",
   "name": "python",
   "nbconvert_exporter": "python",
   "pygments_lexer": "ipython3",
   "version": "3.11.5"
  }
 },
 "nbformat": 4,
 "nbformat_minor": 5
}
