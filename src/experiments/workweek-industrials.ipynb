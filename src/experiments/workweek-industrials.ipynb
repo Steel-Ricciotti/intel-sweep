{
 "cells": [
  {
   "cell_type": "code",
   "execution_count": null,
   "id": "6fd078b4",
   "metadata": {},
   "outputs": [],
   "source": [
    "# Average Workweek vs Capex Industrials\n",
    "leading_indicators = 'AWHMAN'\n",
    "equities = ['DE', 'CAT', 'EMR']"
   ]
  }
 ],
 "metadata": {
  "language_info": {
   "name": "python"
  }
 },
 "nbformat": 4,
 "nbformat_minor": 5
}
